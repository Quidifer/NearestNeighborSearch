{
 "cells": [
  {
   "cell_type": "code",
   "execution_count": 288,
   "metadata": {},
   "outputs": [
    {
     "name": "stdout",
     "output_type": "stream",
     "text": [
      "([-0.084975892, 1.4136573, 0.95165009, -0.6215477, -0.19397639, 0.19818832], 2.0)\n"
     ]
    }
   ],
   "source": [
    "#Import data\n",
    "input_file = \"CS170_Small_Data__96.txt\"\n",
    "\n",
    "input_data: list[(list[float], int)] = []\n",
    "FEATURES = 0\n",
    "CLASS = 1\n",
    "\n",
    "def import_data(file: str):\n",
    "    with open(file, 'r') as f:\n",
    "        for line in f:\n",
    "            f_list = [float(i) for i in line.split(\" \") if i.strip()]\n",
    "            input_data.append((f_list[1:], f_list[0]))\n",
    "\n",
    "import_data(input_file)\n",
    "print(input_data[0])"
   ]
  },
  {
   "cell_type": "code",
   "execution_count": 289,
   "metadata": {},
   "outputs": [
    {
     "name": "stdout",
     "output_type": "stream",
     "text": [
      "example euclidean distance:  1.4142135623730951\n"
     ]
    }
   ],
   "source": [
    "import math\n",
    "\n",
    "#Euclidean distance\n",
    "#p1 and p2 must have the same dimensionality\n",
    "def dist(p1: list[float], p2: list[float]) -> float:\n",
    "    sum = 0\n",
    "    for i in range(len(p1)):\n",
    "        sum += math.pow(p1[i] - p2[i], 2)\n",
    "    return math.sqrt(sum)\n",
    "\n",
    "print(\"example euclidean distance: \", dist([1.0, 2.0], [2.0, 1.0]))"
   ]
  },
  {
   "cell_type": "code",
   "execution_count": 290,
   "metadata": {},
   "outputs": [
    {
     "name": "stdout",
     "output_type": "stream",
     "text": [
      "example classification:\n"
     ]
    },
    {
     "data": {
      "text/plain": [
       "2"
      ]
     },
     "execution_count": 290,
     "metadata": {},
     "output_type": "execute_result"
    }
   ],
   "source": [
    "#I will use this hardcoded K value\n",
    "K = 9\n",
    "\n",
    "#K nearest neighbors\n",
    "# returns the Classification (1 or 2)\n",
    "def KNN(p: list[float], data: list[(list[float], int)], k: int) -> int:\n",
    "    d: list[(float, int)] = []\n",
    "    for i, tuple in enumerate(data):\n",
    "        d.append((dist(p, tuple[FEATURES]), tuple[CLASS]))\n",
    "    d.sort()\n",
    "    d = d[:k]\n",
    "\n",
    "    # this part is hard coded to the data:\n",
    "    # classes are 1 and 2\n",
    "    a = 0\n",
    "    b = 0\n",
    "    for i, item in enumerate(d):\n",
    "        if item[CLASS] == 1:\n",
    "            a += 1\n",
    "        else:\n",
    "            b += 1\n",
    "\n",
    "    if a > b:\n",
    "        return 1\n",
    "    else:\n",
    "        return 2\n",
    "\n",
    "print(\"example classification:\")\n",
    "KNN(input_data[0][FEATURES], input_data[1:], K)\n"
   ]
  },
  {
   "cell_type": "code",
   "execution_count": 291,
   "metadata": {},
   "outputs": [
    {
     "name": "stdout",
     "output_type": "stream",
     "text": [
      "Test classification using all points\n",
      "0.89\n",
      "Test classification using features 1, 3, and 6\n",
      "0.94\n"
     ]
    }
   ],
   "source": [
    "#classify\n",
    "def classify(data: list[(list[float], int)]):\n",
    "    split = int(len(data) * 0.2)\n",
    "    test = data[:split]\n",
    "    train = data[split:]\n",
    "\n",
    "    num_correct = 0\n",
    "    for i, tuple in enumerate(test):\n",
    "        classification = KNN(tuple[FEATURES], train, K)\n",
    "        if classification == tuple[CLASS]:\n",
    "            num_correct += 1\n",
    "    \n",
    "    return num_correct / len(test)\n",
    "\n",
    "#construct data given feature the numbers\n",
    "def construct_data(features: list[float], data: list[(list[float], int)]) -> list[float]:\n",
    "    my_data = []\n",
    "    for i, tuple in enumerate(data):\n",
    "        temp = []\n",
    "        for feature in features:\n",
    "            temp.append(tuple[FEATURES][feature-1])\n",
    "        my_data.append((temp, tuple[CLASS]))\n",
    "    return my_data\n",
    "\n",
    "print(\"Test classification using all points\")\n",
    "print(classify(input_data))\n",
    "\n",
    "print(\"Test classification using features 1, 3, and 6\")\n",
    "print(classify(construct_data([1,3,6], input_data)))\n"
   ]
  },
  {
   "cell_type": "code",
   "execution_count": 292,
   "metadata": {},
   "outputs": [
    {
     "name": "stdout",
     "output_type": "stream",
     "text": [
      "testing feature(s):  [1]  accuracy:  0.88\n",
      "testing feature(s):  [2]  accuracy:  0.83\n",
      "testing feature(s):  [3]  accuracy:  0.79\n",
      "testing feature(s):  [4]  accuracy:  0.81\n",
      "testing feature(s):  [5]  accuracy:  0.83\n",
      "testing feature(s):  [6]  accuracy:  0.78\n",
      "\n",
      " Best feature was  [1]  accuracy:  0.88 \n",
      "\n",
      "testing feature(s):  [1, 2]  accuracy:  0.88\n",
      "testing feature(s):  [1, 3]  accuracy:  0.95\n",
      "testing feature(s):  [1, 4]  accuracy:  0.92\n",
      "testing feature(s):  [1, 5]  accuracy:  0.9\n",
      "testing feature(s):  [1, 6]  accuracy:  0.96\n",
      "\n",
      " Best feature was  [1, 6]  accuracy:  0.96 \n",
      "\n",
      "testing feature(s):  [1, 6, 2]  accuracy:  0.92\n",
      "testing feature(s):  [1, 6, 3]  accuracy:  0.94\n",
      "testing feature(s):  [1, 6, 4]  accuracy:  0.94\n",
      "testing feature(s):  [1, 6, 5]  accuracy:  0.92\n",
      "\n",
      " Best feature was  [1, 6, 3]  accuracy:  0.94 \n",
      "\n",
      "testing feature(s):  [1, 6, 3, 2]  accuracy:  0.9\n",
      "testing feature(s):  [1, 6, 3, 4]  accuracy:  0.9\n",
      "testing feature(s):  [1, 6, 3, 5]  accuracy:  0.95\n",
      "\n",
      " Best feature was  [1, 6, 3, 5]  accuracy:  0.95 \n",
      "\n",
      "testing feature(s):  [1, 6, 3, 5, 2]  accuracy:  0.87\n",
      "testing feature(s):  [1, 6, 3, 5, 4]  accuracy:  0.88\n",
      "\n",
      " Best feature was  [1, 6, 3, 5, 4]  accuracy:  0.88 \n",
      "\n",
      "testing feature(s):  [1, 6, 3, 5, 4, 2]  accuracy:  0.89\n",
      "\n",
      " Best feature was  [1, 6, 3, 5, 4, 2]  accuracy:  0.89 \n",
      "\n",
      "Finished... The best feature set was [1, 6] with an accuracy of 0.96\n"
     ]
    }
   ],
   "source": [
    "import copy\n",
    "\n",
    "def forward_selection():\n",
    "    best_ever = 0\n",
    "    best_set_ever = []\n",
    "    best_so_far = []\n",
    "    for i in range(len(input_data[0][FEATURES])):\n",
    "        best = 0.0\n",
    "        for j in range(len(input_data[0][FEATURES])):\n",
    "            if j+1 in best_so_far:\n",
    "                continue\n",
    "            feature_set = copy.copy(best_so_far[:i])\n",
    "            feature_set.append(j+1)\n",
    "            \n",
    "            data = construct_data(feature_set, input_data)\n",
    "            accuracy = classify(data)\n",
    "            print(\"testing feature(s): \", feature_set, \" accuracy: \", accuracy)\n",
    "            if accuracy > best:\n",
    "                best = accuracy\n",
    "                best_so_far = feature_set\n",
    "            if accuracy > best_ever:\n",
    "                best_ever = accuracy\n",
    "                best_set_ever = feature_set\n",
    "        print(\"\\n Best feature was \", best_so_far, \" accuracy: \", best, \"\\n\")\n",
    "        # for j, tuple in enumerate(input_data):\n",
    "        #     test = copy.copy(feature_set)\n",
    "        #     test.append(i + 1)\n",
    "        #     print(\"testing features \", test)\n",
    "    print(\"Finished... The best feature set was\", best_set_ever, \"with an accuracy of\", best_ever)\n",
    "\n",
    "forward_selection()"
   ]
  },
  {
   "cell_type": "code",
   "execution_count": null,
   "metadata": {},
   "outputs": [],
   "source": []
  }
 ],
 "metadata": {
  "kernelspec": {
   "display_name": "Python 3.10.9 64-bit (microsoft store)",
   "language": "python",
   "name": "python3"
  },
  "language_info": {
   "codemirror_mode": {
    "name": "ipython",
    "version": 3
   },
   "file_extension": ".py",
   "mimetype": "text/x-python",
   "name": "python",
   "nbconvert_exporter": "python",
   "pygments_lexer": "ipython3",
   "version": "3.10.9"
  },
  "orig_nbformat": 4,
  "vscode": {
   "interpreter": {
    "hash": "aa82987a71ca0339a52998cd22613b0c002bda8349fa32a0cb67ceec3936a2bf"
   }
  }
 },
 "nbformat": 4,
 "nbformat_minor": 2
}
