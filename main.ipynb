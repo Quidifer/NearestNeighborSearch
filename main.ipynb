{
 "cells": [
  {
   "cell_type": "code",
   "execution_count": 23,
   "metadata": {},
   "outputs": [
    {
     "name": "stdout",
     "output_type": "stream",
     "text": [
      "([-0.084975892, 1.4136573, 0.95165009, -0.6215477, -0.19397639, 0.19818832], 2.0)\n"
     ]
    }
   ],
   "source": [
    "#Import data\n",
    "input_file = \"CS170_Small_Data__96.txt\"\n",
    "\n",
    "input_data: list[(list[float], int)] = []\n",
    "FEATURES = 0\n",
    "CLASS = 1\n",
    "\n",
    "def import_data(file: str):\n",
    "    input_data.clear()\n",
    "    with open(file, 'r') as f:\n",
    "        for line in f:\n",
    "            f_list = [float(i) for i in line.split(\" \") if i.strip()]\n",
    "            input_data.append((f_list[1:], f_list[0]))\n",
    "\n",
    "import_data(input_file)\n",
    "print(input_data[0])"
   ]
  },
  {
   "cell_type": "code",
   "execution_count": 24,
   "metadata": {},
   "outputs": [
    {
     "name": "stdout",
     "output_type": "stream",
     "text": [
      "example euclidean distance:  1.4142135623730951\n"
     ]
    }
   ],
   "source": [
    "import math\n",
    "\n",
    "#Euclidean distance\n",
    "#p1 and p2 must have the same dimensionality\n",
    "def dist(p1: list[float], p2: list[float]) -> float:\n",
    "    sum = 0\n",
    "    for i in range(len(p1)):\n",
    "        sum += math.pow(p1[i] - p2[i], 2)\n",
    "    return math.sqrt(sum)\n",
    "\n",
    "print(\"example euclidean distance: \", dist([1.0, 2.0], [2.0, 1.0]))"
   ]
  },
  {
   "cell_type": "code",
   "execution_count": 25,
   "metadata": {},
   "outputs": [
    {
     "name": "stdout",
     "output_type": "stream",
     "text": [
      "example classification:\n"
     ]
    },
    {
     "data": {
      "text/plain": [
       "1.0"
      ]
     },
     "execution_count": 25,
     "metadata": {},
     "output_type": "execute_result"
    }
   ],
   "source": [
    "#I will use this hardcoded K value\n",
    "K = 7\n",
    "\n",
    "#K nearest neighbors\n",
    "# returns the Classification (1 or 2)\n",
    "def KNN(p: list[float], data: list[(list[float], int)], k: int) -> int:\n",
    "    d: list[(float, int)] = []\n",
    "    for i, tuple in enumerate(data):\n",
    "        d.append((dist(p, tuple[FEATURES]), tuple[CLASS]))\n",
    "    d.sort()\n",
    "    d = d[:k]\n",
    "\n",
    "    # this part is hard coded to the data:\n",
    "    # classes are 1 and 2\n",
    "    a = 0\n",
    "    b = 0\n",
    "    for i, item in enumerate(d):\n",
    "        if item[CLASS] == 1:\n",
    "            a += 1\n",
    "        else:\n",
    "            b += 1\n",
    "\n",
    "    if a > b:\n",
    "        return 1\n",
    "    else:\n",
    "        return 2\n",
    "\n",
    "#nearest neighbor\n",
    "# returns the Classification (1 or 2)\n",
    "def NN(p: list[float], data: list[(list[float], int)], skip: int =-1) -> int:\n",
    "    best_dist = float('inf')\n",
    "    best_class = -1\n",
    "    for i, tuple in enumerate(data):\n",
    "        if i == skip:\n",
    "            continue\n",
    "        test = dist(p, tuple[FEATURES])\n",
    "        if test < best_dist:\n",
    "            best_dist = test\n",
    "            best_class = tuple[CLASS]\n",
    "\n",
    "    return best_class\n",
    "\n",
    "print(\"example classification:\")\n",
    "NN(input_data[0][FEATURES], input_data[1:])\n"
   ]
  },
  {
   "cell_type": "code",
   "execution_count": 26,
   "metadata": {},
   "outputs": [
    {
     "name": "stdout",
     "output_type": "stream",
     "text": [
      "Test classification using all points\n",
      "0.836\n",
      "Test classification using features 1, 3, and 6\n",
      "0.94\n"
     ]
    }
   ],
   "source": [
    "import copy\n",
    "\n",
    "#classify 80% train data 20% test data\n",
    "def classify8020(data: list[(list[float], int)]):\n",
    "    split = int(len(data) * 0.2)\n",
    "    test = data[:split]\n",
    "    train = data[split:]\n",
    "\n",
    "    num_correct = 0\n",
    "    for i, tuple in enumerate(test):\n",
    "        classification = NN(tuple[FEATURES], train)\n",
    "        if classification == tuple[CLASS]:\n",
    "            num_correct += 1\n",
    "    \n",
    "    return num_correct / len(test)\n",
    "\n",
    "#leave one out\n",
    "def classify(data: list[(list[float], int)]):\n",
    "    total = 0\n",
    "    num_correct = 0\n",
    "    for i, tuple in enumerate(data):\n",
    "        classification = NN(tuple[FEATURES], data, i)\n",
    "        \n",
    "        if classification == tuple[CLASS]:\n",
    "            num_correct += 1\n",
    "        total += 1\n",
    "    \n",
    "    return num_correct / total\n",
    "\n",
    "#construct data given feature the numbers\n",
    "def construct_data(features: list[float], data: list[(list[float], int)]) -> list[float]:\n",
    "    my_data = []\n",
    "    for i, tuple in enumerate(data):\n",
    "        temp = []\n",
    "        for feature in features:\n",
    "            temp.append(tuple[FEATURES][feature-1])\n",
    "        my_data.append((temp, tuple[CLASS]))\n",
    "    return my_data\n",
    "\n",
    "print(\"Test classification using all points\")\n",
    "print(classify(input_data))\n",
    "\n",
    "print(\"Test classification using features 1, 3, and 6\")\n",
    "print(classify(construct_data([1,3,6], input_data)))\n"
   ]
  },
  {
   "cell_type": "code",
   "execution_count": 27,
   "metadata": {},
   "outputs": [
    {
     "name": "stdout",
     "output_type": "stream",
     "text": [
      "testing feature(s):  [1]  accuracy:  0.874\n",
      "testing feature(s):  [2]  accuracy:  0.682\n",
      "testing feature(s):  [3]  accuracy:  0.734\n",
      "testing feature(s):  [4]  accuracy:  0.718\n",
      "testing feature(s):  [5]  accuracy:  0.672\n",
      "testing feature(s):  [6]  accuracy:  0.746\n",
      "\n",
      " Best feature was  [1]  accuracy:  0.874 \n",
      "\n",
      "testing feature(s):  [1, 2]  accuracy:  0.826\n",
      "testing feature(s):  [1, 3]  accuracy:  0.866\n",
      "testing feature(s):  [1, 4]  accuracy:  0.82\n",
      "testing feature(s):  [1, 5]  accuracy:  0.836\n",
      "testing feature(s):  [1, 6]  accuracy:  0.948\n",
      "\n",
      " Best feature was  [1, 6]  accuracy:  0.948 \n",
      "\n",
      "testing feature(s):  [1, 6, 2]  accuracy:  0.904\n",
      "testing feature(s):  [1, 6, 3]  accuracy:  0.94\n",
      "testing feature(s):  [1, 6, 4]  accuracy:  0.904\n",
      "testing feature(s):  [1, 6, 5]  accuracy:  0.938\n",
      "\n",
      " Best feature was  [1, 6, 3]  accuracy:  0.94 \n",
      "\n",
      "testing feature(s):  [1, 6, 3, 2]  accuracy:  0.88\n",
      "testing feature(s):  [1, 6, 3, 4]  accuracy:  0.884\n",
      "testing feature(s):  [1, 6, 3, 5]  accuracy:  0.892\n",
      "\n",
      " Best feature was  [1, 6, 3, 5]  accuracy:  0.892 \n",
      "\n",
      "testing feature(s):  [1, 6, 3, 5, 2]  accuracy:  0.828\n",
      "testing feature(s):  [1, 6, 3, 5, 4]  accuracy:  0.864\n",
      "\n",
      " Best feature was  [1, 6, 3, 5, 4]  accuracy:  0.864 \n",
      "\n",
      "testing feature(s):  [1, 6, 3, 5, 4, 2]  accuracy:  0.836\n",
      "\n",
      " Best feature was  [1, 6, 3, 5, 4, 2]  accuracy:  0.836 \n",
      "\n",
      "Finished... The best feature set was [1, 6] with an accuracy of 0.948\n"
     ]
    },
    {
     "data": {
      "text/plain": [
       "([1, 6],\n",
       " 0.948,\n",
       " [0.874, 0.948, 0.94, 0.892, 0.864, 0.836],\n",
       " [[1], [1, 6], [1, 6, 3], [1, 6, 3, 5], [1, 6, 3, 5, 4], [1, 6, 3, 5, 4, 2]])"
      ]
     },
     "execution_count": 27,
     "metadata": {},
     "output_type": "execute_result"
    }
   ],
   "source": [
    "import copy\n",
    "\n",
    "def forward_selection(DEBUG: bool = False):\n",
    "    #for analysis\n",
    "    accuracy_over_time = []\n",
    "    sets_over_time = []\n",
    "\n",
    "    best_ever = 0\n",
    "    best_set_ever = []\n",
    "    best_so_far = []\n",
    "    for i in range(len(input_data[0][FEATURES])):\n",
    "        #keeps track of best accuracy for this group\n",
    "        best = 0.0\n",
    "        for j in range(len(input_data[0][FEATURES])):\n",
    "            #check to see if this feature exists in this feature set yet\n",
    "            if j+1 in best_so_far:\n",
    "                continue\n",
    "\n",
    "            #copy over and add a new feature\n",
    "            feature_set = copy.copy(best_so_far[:i])\n",
    "            feature_set.append(j+1)\n",
    "            \n",
    "            data = construct_data(feature_set, input_data)\n",
    "            accuracy = classify(data)\n",
    "\n",
    "            if DEBUG:\n",
    "                print(\"testing feature(s): \", feature_set, \" accuracy: \", accuracy)\n",
    "            \n",
    "            \n",
    "            # check if this set was better than any others in its group\n",
    "            if accuracy > best:\n",
    "                best = accuracy\n",
    "                best_so_far = feature_set\n",
    "            # check if this set was better than any other set ever\n",
    "            if accuracy > best_ever:\n",
    "                best_ever = accuracy\n",
    "                best_set_ever = feature_set\n",
    "        \n",
    "        if DEBUG:\n",
    "            print(\"\\n Best feature was \", best_so_far, \" accuracy: \", best, \"\\n\")\n",
    "        accuracy_over_time.append(best)\n",
    "        sets_over_time.append(best_so_far)\n",
    "\n",
    "    if DEBUG:\n",
    "        print(\"Finished... The best feature set was\", best_set_ever, \"with an accuracy of\", best_ever)\n",
    "\n",
    "    return (best_set_ever, best_ever, accuracy_over_time, sets_over_time)\n",
    "\n",
    "forward_selection(True)"
   ]
  },
  {
   "cell_type": "code",
   "execution_count": 28,
   "metadata": {},
   "outputs": [
    {
     "name": "stdout",
     "output_type": "stream",
     "text": [
      "testing feature(s):  [1, 2, 3, 4, 5, 6]  accuracy:  0.836\n",
      "\n",
      " Best feature was  [1, 2, 3, 4, 5, 6]  accuracy:  0.836 \n",
      "\n",
      "testing feature(s):  [2, 3, 4, 5, 6]  accuracy:  0.736\n",
      "testing feature(s):  [1, 3, 4, 5, 6]  accuracy:  0.864\n",
      "testing feature(s):  [1, 2, 4, 5, 6]  accuracy:  0.816\n",
      "testing feature(s):  [1, 2, 3, 5, 6]  accuracy:  0.828\n",
      "testing feature(s):  [1, 2, 3, 4, 6]  accuracy:  0.872\n",
      "testing feature(s):  [1, 2, 3, 4, 5]  accuracy:  0.818\n",
      "\n",
      " Best feature was  [1, 2, 3, 4, 6]  accuracy:  0.872 \n",
      "\n",
      "testing feature(s):  [2, 3, 4, 6]  accuracy:  0.73\n",
      "testing feature(s):  [1, 3, 4, 6]  accuracy:  0.884\n",
      "testing feature(s):  [1, 2, 4, 6]  accuracy:  0.862\n",
      "testing feature(s):  [1, 2, 3, 6]  accuracy:  0.88\n",
      "testing feature(s):  [1, 2, 3, 4]  accuracy:  0.792\n",
      "\n",
      " Best feature was  [1, 3, 4, 6]  accuracy:  0.884 \n",
      "\n",
      "testing feature(s):  [3, 4, 6]  accuracy:  0.74\n",
      "testing feature(s):  [1, 4, 6]  accuracy:  0.904\n",
      "testing feature(s):  [1, 3, 6]  accuracy:  0.94\n",
      "testing feature(s):  [1, 3, 4]  accuracy:  0.83\n",
      "\n",
      " Best feature was  [1, 3, 6]  accuracy:  0.94 \n",
      "\n",
      "testing feature(s):  [3, 6]  accuracy:  0.708\n",
      "testing feature(s):  [1, 6]  accuracy:  0.948\n",
      "testing feature(s):  [1, 3]  accuracy:  0.866\n",
      "\n",
      " Best feature was  [1, 6]  accuracy:  0.948 \n",
      "\n",
      "testing feature(s):  [6]  accuracy:  0.746\n",
      "testing feature(s):  [1]  accuracy:  0.874\n",
      "\n",
      " Best feature was  [1]  accuracy:  0.874 \n",
      "\n",
      "Finished... The best feature set was [1, 6] with an accuracy of 0.948\n"
     ]
    },
    {
     "data": {
      "text/plain": [
       "([1, 6],\n",
       " 0.948,\n",
       " [0.872, 0.884, 0.94, 0.948, 0.874],\n",
       " [[1, 2, 3, 4, 6], [1, 3, 4, 6], [1, 3, 6], [1, 6], [1]])"
      ]
     },
     "execution_count": 28,
     "metadata": {},
     "output_type": "execute_result"
    }
   ],
   "source": [
    "def backward_selection(DEBUG:bool = False):\n",
    "    #for analysis\n",
    "    accuracy_over_time = []\n",
    "    sets_over_time = []\n",
    "    \n",
    "    #best ever accuracy\n",
    "    best_ever = classify(input_data)\n",
    "\n",
    "    #best set ever\n",
    "    best_set_ever = list(range(1, len(input_data[0][FEATURES])+1))\n",
    "\n",
    "    #best set\n",
    "    best_so_far = list(range(1, len(input_data[0][FEATURES])+1))\n",
    "\n",
    "    #initial\n",
    "    if DEBUG:\n",
    "        print(\"testing feature(s): \", best_so_far, \" accuracy: \", best_ever)\n",
    "        print(\"\\n Best feature was \", best_so_far, \" accuracy: \", best_ever, \"\\n\")\n",
    "\n",
    "    for i in range(len(input_data[0][FEATURES])-1):\n",
    "        best = 0.0\n",
    "        curr = best_so_far\n",
    "        for j in curr:\n",
    "            #test a new feature set by removing a feature\n",
    "            feature_set = copy.copy(curr)\n",
    "            feature_set.remove(j)\n",
    "            \n",
    "            data = construct_data(feature_set, input_data)\n",
    "            accuracy = classify(data)\n",
    "            if DEBUG:\n",
    "                print(\"testing feature(s): \", feature_set, \" accuracy: \", accuracy)\n",
    "\n",
    "            # check if this set was better than any others in its group\n",
    "            if accuracy > best:\n",
    "                best = accuracy\n",
    "                best_so_far = feature_set\n",
    "            # check if this set was better than any other set ever\n",
    "            if accuracy > best_ever:\n",
    "                best_ever = accuracy\n",
    "                best_set_ever = feature_set\n",
    "        \n",
    "\n",
    "        #if DEBUG:\n",
    "        print(\"\\n Best feature was \", best_so_far, \" accuracy: \", best, \"\\n\")\n",
    "        accuracy_over_time.append(best)\n",
    "        sets_over_time.append(best_so_far)\n",
    "\n",
    "    if DEBUG:\n",
    "        print(\"Finished... The best feature set was\", best_set_ever, \"with an accuracy of\", best_ever)\n",
    "    \n",
    "    return (best_set_ever, best_ever, accuracy_over_time, sets_over_time)\n",
    "\n",
    "backward_selection(True)"
   ]
  },
  {
   "cell_type": "code",
   "execution_count": 29,
   "metadata": {},
   "outputs": [
    {
     "name": "stdout",
     "output_type": "stream",
     "text": [
      "Test classification using features 37, 36, and 40\n",
      "0.947\n",
      "Test classification using features 2, 5, 3\n",
      "0.916\n",
      "Test classification using features 21,8,10\n",
      "0.947\n",
      "Test classification using features 5,2,1\n",
      "0.936\n",
      "Test classification using features 22,1,6\n",
      "0.954\n"
     ]
    }
   ],
   "source": [
    "#expect 0.947\n",
    "import_data(\"CS170_Large_Data__21.txt\")\n",
    "print(\"Test classification using features 37, 36, and 40\")\n",
    "print(classify(construct_data([37,36,40], input_data)))\n",
    "\n",
    "#expect 0.916\n",
    "import_data(\"CS170_Small_Data__6.txt\")\n",
    "print(\"Test classification using features 2, 5, 3\")\n",
    "print(classify(construct_data([2,5,3], input_data)))\n",
    "\n",
    "#expect 0.947\n",
    "import_data(\"CS170_Large_Data__96.txt\")\n",
    "print(\"Test classification using features 21,8,10\")\n",
    "print(classify(construct_data([21,8,10], input_data)))\n",
    "\n",
    "#expect 0.936\n",
    "import_data(\"CS170_Small_Data__88.txt\")\n",
    "print(\"Test classification using features 5,2,1\")\n",
    "print(classify(construct_data([5,2,1], input_data)))\n",
    "\n",
    "#expect 0.954\n",
    "import_data(\"CS170_Large_Data__6.txt\")\n",
    "print(\"Test classification using features 22,1,6\")\n",
    "print(classify(construct_data([22,1,6], input_data)))"
   ]
  },
  {
   "cell_type": "code",
   "execution_count": 30,
   "metadata": {},
   "outputs": [
    {
     "name": "stdout",
     "output_type": "stream",
     "text": [
      "\n",
      " Best feature was  [1, 2, 4, 5, 6]  accuracy:  0.864 \n",
      "\n",
      "\n",
      " Best feature was  [1, 4, 5, 6]  accuracy:  0.902 \n",
      "\n",
      "\n",
      " Best feature was  [1, 4, 5]  accuracy:  0.942 \n",
      "\n",
      "\n",
      " Best feature was  [1, 4]  accuracy:  0.96 \n",
      "\n",
      "\n",
      " Best feature was  [4]  accuracy:  0.834 \n",
      "\n",
      "Backward Selection on Small Data 47:  ([1, 4], 0.96)\n",
      "Time Taken:  6.0 s\n",
      "Forward Selection on Small Data 47:  ([4, 1], 0.96)\n",
      "Time Taken:  4.87 s\n"
     ]
    }
   ],
   "source": [
    "import time\n",
    "\n",
    "# my small data set\n",
    "import_data(\"CS170_Small_Data__47.txt\")\n",
    "\n",
    "start = time.time()\n",
    "small_backward_data = backward_selection()\n",
    "print(\"Backward Selection on Small Data 47: \", small_backward_data[:2])\n",
    "small_backward_time = round(time.time() - start, 2)\n",
    "print(\"Time Taken: \", small_backward_time, \"s\")\n",
    "\n",
    "\n",
    "start = time.time()\n",
    "small_forward_data = forward_selection()\n",
    "print(\"Forward Selection on Small Data 47: \", small_forward_data[:2])\n",
    "small_forward_time = round(time.time() - start, 2)\n",
    "print(\"Time Taken: \", small_forward_time, \"s\")"
   ]
  },
  {
   "cell_type": "code",
   "execution_count": 31,
   "metadata": {},
   "outputs": [
    {
     "name": "stdout",
     "output_type": "stream",
     "text": [
      "\n",
      " Best feature was  [1, 2, 3, 4, 5, 6, 7, 8, 9, 10, 11, 12, 13, 14, 15, 16, 17, 18, 19, 20, 21, 22, 23, 24, 26, 27, 28, 29, 30, 31, 32, 33, 34, 35, 36, 37, 38, 39, 40]  accuracy:  0.721 \n",
      "\n",
      "\n",
      " Best feature was  [1, 2, 3, 4, 5, 6, 7, 8, 9, 10, 11, 12, 13, 14, 15, 17, 18, 19, 20, 21, 22, 23, 24, 26, 27, 28, 29, 30, 31, 32, 33, 34, 35, 36, 37, 38, 39, 40]  accuracy:  0.736 \n",
      "\n",
      "\n",
      " Best feature was  [1, 2, 3, 5, 6, 7, 8, 9, 10, 11, 12, 13, 14, 15, 17, 18, 19, 20, 21, 22, 23, 24, 26, 27, 28, 29, 30, 31, 32, 33, 34, 35, 36, 37, 38, 39, 40]  accuracy:  0.734 \n",
      "\n",
      "\n",
      " Best feature was  [1, 2, 3, 5, 6, 7, 8, 9, 10, 11, 12, 13, 14, 15, 17, 18, 19, 20, 21, 22, 23, 24, 26, 27, 28, 29, 30, 31, 32, 33, 35, 36, 37, 38, 39, 40]  accuracy:  0.743 \n",
      "\n",
      "\n",
      " Best feature was  [1, 2, 3, 6, 7, 8, 9, 10, 11, 12, 13, 14, 15, 17, 18, 19, 20, 21, 22, 23, 24, 26, 27, 28, 29, 30, 31, 32, 33, 35, 36, 37, 38, 39, 40]  accuracy:  0.741 \n",
      "\n",
      "\n",
      " Best feature was  [1, 2, 3, 6, 7, 8, 9, 10, 11, 12, 13, 14, 15, 17, 18, 19, 20, 21, 22, 23, 24, 26, 27, 28, 29, 30, 31, 32, 33, 35, 37, 38, 39, 40]  accuracy:  0.754 \n",
      "\n",
      "\n",
      " Best feature was  [1, 2, 3, 6, 7, 8, 9, 10, 11, 12, 13, 15, 17, 18, 19, 20, 21, 22, 23, 24, 26, 27, 28, 29, 30, 31, 32, 33, 35, 37, 38, 39, 40]  accuracy:  0.761 \n",
      "\n",
      "\n",
      " Best feature was  [1, 2, 3, 6, 7, 8, 9, 10, 11, 12, 13, 15, 17, 18, 19, 20, 21, 22, 23, 24, 26, 27, 29, 30, 31, 32, 33, 35, 37, 38, 39, 40]  accuracy:  0.766 \n",
      "\n",
      "\n",
      " Best feature was  [1, 2, 3, 6, 7, 8, 9, 10, 11, 13, 15, 17, 18, 19, 20, 21, 22, 23, 24, 26, 27, 29, 30, 31, 32, 33, 35, 37, 38, 39, 40]  accuracy:  0.77 \n",
      "\n",
      "\n",
      " Best feature was  [1, 2, 3, 6, 7, 8, 9, 10, 11, 13, 15, 17, 18, 19, 20, 21, 23, 24, 26, 27, 29, 30, 31, 32, 33, 35, 37, 38, 39, 40]  accuracy:  0.776 \n",
      "\n",
      "\n",
      " Best feature was  [1, 2, 3, 6, 7, 8, 9, 10, 11, 13, 15, 18, 19, 20, 21, 23, 24, 26, 27, 29, 30, 31, 32, 33, 35, 37, 38, 39, 40]  accuracy:  0.772 \n",
      "\n",
      "\n",
      " Best feature was  [1, 2, 3, 6, 7, 8, 9, 10, 11, 13, 15, 18, 19, 20, 23, 24, 26, 27, 29, 30, 31, 32, 33, 35, 37, 38, 39, 40]  accuracy:  0.775 \n",
      "\n",
      "\n",
      " Best feature was  [1, 2, 3, 6, 7, 8, 9, 10, 11, 13, 15, 18, 19, 20, 23, 24, 26, 27, 29, 30, 31, 33, 35, 37, 38, 39, 40]  accuracy:  0.785 \n",
      "\n",
      "\n",
      " Best feature was  [1, 2, 3, 6, 7, 8, 9, 10, 11, 13, 15, 18, 19, 20, 23, 24, 26, 27, 29, 30, 31, 35, 37, 38, 39, 40]  accuracy:  0.792 \n",
      "\n",
      "\n",
      " Best feature was  [1, 2, 3, 6, 7, 8, 9, 10, 11, 15, 18, 19, 20, 23, 24, 26, 27, 29, 30, 31, 35, 37, 38, 39, 40]  accuracy:  0.791 \n",
      "\n",
      "\n",
      " Best feature was  [1, 2, 3, 6, 7, 8, 9, 10, 11, 15, 18, 19, 20, 23, 24, 26, 27, 29, 30, 31, 35, 37, 38, 40]  accuracy:  0.789 \n",
      "\n",
      "\n",
      " Best feature was  [1, 2, 3, 6, 7, 8, 9, 10, 11, 15, 18, 19, 20, 23, 24, 26, 27, 29, 30, 35, 37, 38, 40]  accuracy:  0.787 \n",
      "\n",
      "\n",
      " Best feature was  [1, 2, 3, 6, 7, 8, 9, 10, 11, 15, 18, 19, 20, 23, 24, 26, 27, 30, 35, 37, 38, 40]  accuracy:  0.786 \n",
      "\n",
      "\n",
      " Best feature was  [1, 2, 3, 6, 7, 8, 9, 10, 11, 15, 18, 19, 20, 24, 26, 27, 30, 35, 37, 38, 40]  accuracy:  0.781 \n",
      "\n",
      "\n",
      " Best feature was  [1, 2, 6, 7, 8, 9, 10, 11, 15, 18, 19, 20, 24, 26, 27, 30, 35, 37, 38, 40]  accuracy:  0.783 \n",
      "\n",
      "\n",
      " Best feature was  [1, 2, 6, 7, 8, 9, 10, 11, 15, 18, 19, 20, 24, 26, 27, 30, 37, 38, 40]  accuracy:  0.792 \n",
      "\n",
      "\n",
      " Best feature was  [1, 2, 6, 7, 8, 9, 10, 11, 15, 18, 19, 20, 24, 26, 27, 30, 37, 40]  accuracy:  0.786 \n",
      "\n",
      "\n",
      " Best feature was  [1, 2, 6, 7, 8, 9, 10, 11, 15, 18, 19, 20, 24, 27, 30, 37, 40]  accuracy:  0.789 \n",
      "\n",
      "\n",
      " Best feature was  [1, 6, 7, 8, 9, 10, 11, 15, 18, 19, 20, 24, 27, 30, 37, 40]  accuracy:  0.781 \n",
      "\n",
      "\n",
      " Best feature was  [1, 6, 7, 8, 9, 10, 15, 18, 19, 20, 24, 27, 30, 37, 40]  accuracy:  0.782 \n",
      "\n",
      "\n",
      " Best feature was  [1, 6, 7, 9, 10, 15, 18, 19, 20, 24, 27, 30, 37, 40]  accuracy:  0.791 \n",
      "\n",
      "\n",
      " Best feature was  [1, 6, 7, 9, 10, 15, 18, 19, 20, 27, 30, 37, 40]  accuracy:  0.794 \n",
      "\n",
      "\n",
      " Best feature was  [1, 6, 7, 9, 10, 15, 18, 19, 20, 27, 37, 40]  accuracy:  0.808 \n",
      "\n",
      "\n",
      " Best feature was  [1, 6, 9, 10, 15, 18, 19, 20, 27, 37, 40]  accuracy:  0.809 \n",
      "\n",
      "\n",
      " Best feature was  [1, 6, 10, 15, 18, 19, 20, 27, 37, 40]  accuracy:  0.818 \n",
      "\n",
      "\n",
      " Best feature was  [1, 6, 10, 18, 19, 20, 27, 37, 40]  accuracy:  0.814 \n",
      "\n",
      "\n",
      " Best feature was  [1, 6, 10, 18, 19, 20, 27, 37]  accuracy:  0.82 \n",
      "\n",
      "\n",
      " Best feature was  [6, 10, 18, 19, 20, 27, 37]  accuracy:  0.838 \n",
      "\n",
      "\n",
      " Best feature was  [6, 10, 18, 19, 20, 37]  accuracy:  0.861 \n",
      "\n",
      "\n",
      " Best feature was  [10, 18, 19, 20, 37]  accuracy:  0.88 \n",
      "\n",
      "\n",
      " Best feature was  [10, 19, 20, 37]  accuracy:  0.904 \n",
      "\n",
      "\n",
      " Best feature was  [10, 19, 20]  accuracy:  0.958 \n",
      "\n",
      "\n",
      " Best feature was  [10, 20]  accuracy:  0.965 \n",
      "\n",
      "\n",
      " Best feature was  [20]  accuracy:  0.837 \n",
      "\n",
      "Backward Selection on Large Data 80:  ([10, 20], 0.965)\n",
      "Time Taken:  4812.06 s\n",
      "Forward Selection on Large Data 80:  ([20, 10], 0.965)\n",
      "Time Taken:  2711.97 s\n"
     ]
    }
   ],
   "source": [
    "import time\n",
    "\n",
    "# my small data set\n",
    "import_data(\"CS170_Large_Data__80.txt\")\n",
    "\n",
    "start = time.time()\n",
    "large_backward_data = backward_selection()\n",
    "print(\"Backward Selection on Large Data 80: \", large_backward_data[:2])\n",
    "large_backward_time = round(time.time() - start, 2)\n",
    "print(\"Time Taken: \", large_backward_time, \"s\")\n",
    "\n",
    "start = time.time()\n",
    "large_forward_data = forward_selection()\n",
    "print(\"Forward Selection on Large Data 80: \", large_forward_data[:2])\n",
    "large_forward_time = round(time.time() - start, 2)\n",
    "print(\"Time Taken: \", large_forward_time, \"s\")"
   ]
  },
  {
   "cell_type": "code",
   "execution_count": 53,
   "metadata": {},
   "outputs": [
    {
     "data": {
      "image/png": "[encoded data removed]",
      "text/plain": [
       "<Figure size 640x480 with 1 Axes>"
      ]
     },
     "metadata": {},
     "output_type": "display_data"
    }
   ],
   "source": [
    "from matplotlib import pyplot as plt\n",
    "\n",
    "#analysis of large dataset backward\n",
    "\n",
    "number_of_features = []\n",
    "for set in large_backward_data[3]:\n",
    "    number_of_features.append(len(set))\n",
    "\n",
    "plt.plot(number_of_features, large_backward_data[2], color='orange')\n",
    "plt.xlabel('# of Features')\n",
    "plt.ylabel('Accuracy')\n",
    "plt.title('Large Backward Elimination - Accuracy vs # of Features')\n",
    "plt.fill_between(number_of_features, large_backward_data[2], color='#f7df88')\n",
    "plt.grid('on')\n",
    "plt.xlim(0, 40)\n",
    "plt.ylim(0.5,1)\n",
    "plt.show()"
   ]
  },
  {
   "cell_type": "code",
   "execution_count": 59,
   "metadata": {},
   "outputs": [
    {
     "data": {
      "image/png": "[encoded data removed]",
      "text/plain": [
       "<Figure size 640x480 with 1 Axes>"
      ]
     },
     "metadata": {},
     "output_type": "display_data"
    }
   ],
   "source": [
    "#analysis of large dataset forward\n",
    "\n",
    "number_of_features = []\n",
    "for set in large_forward_data[3]:\n",
    "    number_of_features.append(len(set))\n",
    "\n",
    "plt.plot(number_of_features, large_forward_data[2], color='orange')\n",
    "plt.xlabel('# of Features')\n",
    "plt.ylabel('Accuracy')\n",
    "plt.title('Large Forward Selection - Accuracy vs # of Features')\n",
    "plt.fill_between(number_of_features, large_forward_data[2], color='#f7df88')\n",
    "plt.grid('on')\n",
    "plt.xlim(0, 40)\n",
    "plt.ylim(0.5,1)\n",
    "plt.show()"
   ]
  },
  {
   "cell_type": "code",
   "execution_count": 55,
   "metadata": {},
   "outputs": [
    {
     "data": {
      "image/png": "[encoded data removed]",
      "text/plain": [
       "<Figure size 640x480 with 1 Axes>"
      ]
     },
     "metadata": {},
     "output_type": "display_data"
    }
   ],
   "source": [
    "#analysis of small dataset backward\n",
    "\n",
    "features = []\n",
    "for set in small_backward_data[3]:\n",
    "    features.append(str(set))\n",
    "\n",
    "plt.bar(features, small_backward_data[2], color='#f7df88')\n",
    "plt.xlabel('Features')\n",
    "plt.ylabel('Accuracy')\n",
    "plt.title('Small Backward Selection - Accuracy vs Features')\n",
    "plt.show()"
   ]
  },
  {
   "cell_type": "code",
   "execution_count": 57,
   "metadata": {},
   "outputs": [
    {
     "data": {
      "image/png": "[encoded data removed]",
      "text/plain": [
       "<Figure size 720x480 with 1 Axes>"
      ]
     },
     "metadata": {},
     "output_type": "display_data"
    }
   ],
   "source": [
    "#analysis of small dataset forward\n",
    "from matplotlib.pyplot import figure\n",
    "\n",
    "figure(figsize=(9, 6), dpi=80)\n",
    "features.clear()\n",
    "\n",
    "for set in small_forward_data[3]:\n",
    "    features.append(str(set))\n",
    "\n",
    "plt.bar(features, small_forward_data[2], color='#f7df88')\n",
    "plt.xlabel('Features')\n",
    "plt.ylabel('Accuracy')\n",
    "plt.title('Small Forward Selection - Accuracy vs Features')\n",
    "plt.show()"
   ]
  }
 ],
 "metadata": {
  "kernelspec": {
   "display_name": "Python 3.10.9 64-bit (microsoft store)",
   "language": "python",
   "name": "python3"
  },
  "language_info": {
   "codemirror_mode": {
    "name": "ipython",
    "version": 3
   },
   "file_extension": ".py",
   "mimetype": "text/x-python",
   "name": "python",
   "nbconvert_exporter": "python",
   "pygments_lexer": "ipython3",
   "version": "3.10.9"
  },
  "orig_nbformat": 4,
  "vscode": {
   "interpreter": {
    "hash": "aa82987a71ca0339a52998cd22613b0c002bda8349fa32a0cb67ceec3936a2bf"
   }
  }
 },
 "nbformat": 4,
 "nbformat_minor": 2
}
